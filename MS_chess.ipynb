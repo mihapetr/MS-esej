{
 "cells": [
  {
   "cell_type": "markdown",
   "metadata": {},
   "source": [
    "# Sadržaj\n",
    "[Uvod](#Uvod) <br>\n",
    "[Kreiranje ploče](#Kreiranje-ploče)"
   ]
  },
  {
   "cell_type": "markdown",
   "metadata": {},
   "source": [
    "# Uvod\n",
    "U ovom radu je opisan proces implementiranja verzije šaha pod nazivom *Silvermann 4x5*. Cilj je napraviti umjetnu inteligenciju koja može igrati protiv korisnika softvera."
   ]
  },
  {
   "cell_type": "markdown",
   "metadata": {},
   "source": [
    "**PRAVILA SILVERMANN 4X5 ŠAHA**:\n",
    "* Pravila su gotovo ista kao kod [klasičnog šaha](https://hr.wikipedia.org/wiki/%C5%A0ah). Ovo su jedine preomjene:\n",
    "    * U igri se koriste samo kralj, kraljica, kula i pijuni.\n",
    "    * Igra se na polju dimenzije 4 x 5 (vidi implementaciju funkcije za crtanje ploče).\n",
    "    * Pijuni se promoviraju isključivo u kraljicu.\n",
    "    * Rošada se izvodi tako da kralj i kula zamjene mjesta ako između njih nema drugih figura. Ostala pravila u vezi rošade ostaju ista.\n",
    "    * Pijun se može pomaknuti dva polja unaprijed samo ako na ciljnoj poziciji ne postoji druga figura. *En passant* uzimanje pijunom je dozvoljeno nakon toga."
   ]
  },
  {
   "cell_type": "markdown",
   "metadata": {},
   "source": [
    "# Kreiranje ploče\n",
    "Prvi korak je napisati klasu koja se brine o pravilima i pohrani informacija o stanju igre.<br>\n",
    "Znakovi `'K', 'Q', 'R', 'P', 'k', 'q', 'r', 'p'` se koriste za programsku logiku i reprezentaciju figura u memoriji. Rječnik `color` specificira boju figura. `icon_old` je bio korišten u staroj verziji crtanja ploče.\n"
   ]
  },
  {
   "cell_type": "code",
   "execution_count": 147,
   "metadata": {
    "colab": {
     "base_uri": "https://localhost:8080/"
    },
    "id": "XfXsjl_T6Xds",
    "outputId": "147d9a99-a82c-4c6b-d559-b0bcedc75159"
   },
   "outputs": [
    {
     "name": "stdout",
     "output_type": "stream",
     "text": [
      "white pieces: king:  ₭ , queen:  Φ , rook:  Ʀ , pawn:  I \n",
      "black pieces: king:  k , queen:  q , rook:  r , pawn:  i \n"
     ]
    }
   ],
   "source": [
    "icon_old = {\n",
    "    #white pieces\n",
    "    'K': \" \\u20ad \",\n",
    "    'Q': \" \\u03a6 \",\n",
    "    'R': \" \\u01a6 \",\n",
    "    'P': \" I \",\n",
    "    #black pieces\n",
    "    'k': \" k \",\n",
    "    'q': \" q \",\n",
    "    'r': \" r \",\n",
    "    'p': \" i \",\n",
    "    #empty spaces\n",
    "    '.': \"   \",\n",
    "    #special\n",
    "    '-': \" - \"\n",
    "}\n",
    "\n",
    "color = {\n",
    "    #white pieces\n",
    "    'K': \"white\",\n",
    "    'Q': \"white\",\n",
    "    'R': \"white\",\n",
    "    'P': \"white\",\n",
    "    #black pieces\n",
    "    'k': \"black\",\n",
    "    'q': \"black\",\n",
    "    'r': \"black\",\n",
    "    'p': \"black\",\n",
    "    #blank spaces\n",
    "    '.': \"empty\"\n",
    "}\n",
    "\n",
    "print(\"white pieces: king: \" + icon_old['K'] + \", queen: \" + icon_old['Q'] + \", rook: \" + icon_old['R'] + \", pawn: \" + icon_old['P'] )\n",
    "print(\"black pieces: king: \" + icon_old['k'] + \", queen: \" + icon_old['q'] + \", rook: \" + icon_old['r'] + \", pawn: \" + icon_old['p'] )"
   ]
  },
  {
   "cell_type": "markdown",
   "metadata": {},
   "source": [
    "U novoj verziji koriste se slike figurica iz vanjskih izvora i matplotlib za crtanje ploče. `icon` je rječnik sličan `icon_old`, ali kao vrijednosti ima pohranjene slike figurica. Funkcija `Board.draw()` ga koristi."
   ]
  },
  {
   "cell_type": "code",
   "execution_count": 244,
   "metadata": {},
   "outputs": [],
   "source": [
    "images = [\"white-king.png\",\"white-queen.png\",\"white-rook.png\",\"white-pawn.png\",\n",
    "          \"black-king.png\",\"black-queen.png\",\"black-rook.png\",\"black-pawn.png\"]\n",
    "characters = [\"K\",\"Q\",\"R\",\"P\",\n",
    "              \"k\",\"q\",\"r\",\"p\"]\n",
    "imchar = zip(characters, images)\n",
    "icon = {character : img.imread(\"./assets/\" + image) for character, image in imchar}"
   ]
  },
  {
   "cell_type": "markdown",
   "metadata": {
    "id": "kk21-3E3CaKU"
   },
   "source": [
    "- The \"field\" contains piece positions stored in a two dimensional list. field[0][0] represents a1 coordinate and field[3][4] coordinate d5.\n",
    "- Castling rights:\n",
    "  - If the left rook, king or right rook are ever moved from their starting position the corresponding boolean in the castle(B/W) variable will be changed to False. There will be no way to revert it, meaning the castling rights are lost.\n",
    "  - Example: The left white rook moves for the first time since the construction of the board. castleW[0] becomes False. Castling to the left will not be available any more, but castling to the other side will because castleW[1] and castleW[2] are True. \n",
    "- En passant:\n",
    "  - The \"pawns\" variable holds information about pawns' first moves.\n",
    "  - Example: If a white pawn is found on the fourth rank the refresh function will check if it was its first move. In that case the \"enPassantW\" variable will be set to (row,2) where row is the pawn's row.\n",
    "  - If the pawn is ever moved from its starting position the corresponding pawns(W/B)[row] will be set to False for the rest of the game."
   ]
  },
  {
   "cell_type": "markdown",
   "metadata": {},
   "source": [
    "Konstruktor ploče `Board.__init__()` kao argument prima `rep` što je reprezentacija ploče pomoću niza znakova. Nakon definicije klase je demonstrirano korištenje. `Board.__deepcopy__()` vraća memorijski neovisnu kopiju ploče. `__str__()` vraća string reprezentaciju ploče."
   ]
  },
  {
   "cell_type": "code",
   "execution_count": 242,
   "metadata": {
    "id": "QrJmcAjb6-uC"
   },
   "outputs": [],
   "source": [
    "import copy\n",
    "\n",
    "class Board:\n",
    "\n",
    "  def __init__(self, rep):\n",
    "\n",
    "    self.toMove = \"white\" #which player is to make a move\n",
    "\n",
    "    self.wic = False #white in check\n",
    "    self.bic = False #black in check\n",
    "\n",
    "    self.pawnsW = [True, True, True, True] \n",
    "    self.pawnsB = [True, True, True, True]\n",
    "    self.enPassantW = (-1,-1)\n",
    "    self.enPassantB = (-1,-1)\n",
    "\n",
    "    self.castleW = [True, True, True]\n",
    "    self.castleB = [True, True, True]\n",
    "    \n",
    "    self.field = [] \n",
    "\n",
    "    self.capturedW = [] #list of captured white pieces \n",
    "    self.capturedB = [] #list of captured black pieces \n",
    "\n",
    "    #trimming the rep string / removing spaces\n",
    "    rep = rep.replace(\" \",\"\")\n",
    "    field = []\n",
    "\n",
    "    for increment in range(0,4):\n",
    "      col = []\n",
    "      for index in range(0,5):\n",
    "        piece = rep[increment + index*4]\n",
    "        col.append(piece)\n",
    "      field.append(col)\n",
    "    self.field = field\n",
    "\n",
    "  def __deepcopy__(self, memo):\n",
    "      new = Board(\"....................\")\n",
    "      new.field = copy.deepcopy(self.field)\n",
    "\n",
    "      new.wic = copy.deepcopy(self.wic)\n",
    "      new.bic = copy.deepcopy(self.bic)\n",
    "\n",
    "      new.castleB = copy.deepcopy(self.castleB)\n",
    "      new.castleW = copy.deepcopy(self.castleW)\n",
    "\n",
    "      new.pawnsW = copy.deepcopy(self.pawnsW)\n",
    "      new.pawnsB = copy.deepcopy(self.pawnsB)\n",
    "\n",
    "      new.enPassantW = copy.deepcopy(self.enPassantW)\n",
    "      new.enPassantB = copy.deepcopy(self.enPassantB)\n",
    "\n",
    "      new.toMove = copy.deepcopy(self.toMove)\n",
    "\n",
    "      new.capturedW = copy.deepcopy(self.capturedW)\n",
    "      new.capturedB = copy.deepcopy(self.capturedB)\n",
    "\n",
    "      return new\n",
    "\n",
    "  def __str__(self):\n",
    "    res = \"\"\n",
    "    if(self.wic): res += \"white king in check\\n\"\n",
    "    if(self.bic): res += \"black king in check\\n\"\n",
    "    res += str(self.capturedW) + \"\\n\"\n",
    "    for row in range(0,5):\n",
    "      res += \"  +---+---+---+---+\" + \"\\n\"\n",
    "      res += str(5-row) + \" |\" + icon_old[self.field[0][4-row]] + \"|\" + icon_old[self.field[1][4-row]] + \"|\" + icon_old[self.field[2][4-row]] + \"|\" + icon_old[self.field[3][4-row]] + \"|\\n\"\n",
    "    \n",
    "    return res + \"  +---+---+---+---+\" + \"\\n\" + \"    a   b   c   d\\n\" +  str(self.capturedB) + \"\\n\"\n",
    "\n",
    "  def draw(self):\n",
    "    board_figure, board_ax = plt.subplots()\n",
    "    board_ax.axis('equal')\n",
    "    board_ax.axis('off')\n",
    "    d = 0.5\n",
    "    toggle = -1\n",
    "    \n",
    "    # drawing the colored squares\n",
    "    for c in range(1, 5, 1):\n",
    "        for r in range(1, 6, 1):\n",
    "            toggle *= -1\n",
    "            x = [c-d,c+d,c+d,c-d]\n",
    "            y = [r-d,r-d,r+d,r+d]\n",
    "            board_ax.fill(x,y,color=col[toggle])\n",
    "            if self.field[c-1][r-1] == \".\": continue    \n",
    "            # adding icons for pieces\n",
    "            imagebox = OffsetImage(icon[self.field[c-1][r-1]], zoom=0.6)\n",
    "            ab = AnnotationBbox(imagebox,(c,r), frameon=False)\n",
    "            board_ax.add_artist(ab)\n",
    "            \n",
    "    # adding letters and numbers for coordinates\n",
    "    for step, letter in zip(range(0,4), [\"a\",\"b\",\"c\",\"d\"]):\n",
    "        plt.text(0.9+step,0.2,letter,fontsize=\"large\")\n",
    "        plt.text(0.9+step,5.7,letter,fontsize=\"large\")\n",
    "        \n",
    "    for number in range(0,5):\n",
    "        plt.text(0.2,0.9+number,str(number+1),fontsize=\"large\")\n",
    "        plt.text(4.6,0.9+number,str(number+1),fontsize=\"large\")\n",
    "        \n",
    "    # adding captured pieces\n",
    "    step = 0\n",
    "    for captured in self.capturedW:\n",
    "        imagebox = OffsetImage(icon[captured], zoom=0.3)\n",
    "        ab = AnnotationBbox(imagebox,(5.2,5.3-step), frameon=False)\n",
    "        board_ax.add_artist(ab)\n",
    "        step += 0.5\n",
    "        \n",
    "    step = 0\n",
    "    for captured in self.capturedB:\n",
    "        imagebox = OffsetImage(icon[captured], zoom=0.3)\n",
    "        ab = AnnotationBbox(imagebox,(-0.2,0.7+step), frameon=False)\n",
    "        board_ax.add_artist(ab)\n",
    "        step += 0.5\n",
    "    "
   ]
  },
  {
   "cell_type": "markdown",
   "metadata": {},
   "source": [
    "Ovako izgleda početno stanje igre."
   ]
  },
  {
   "cell_type": "code",
   "execution_count": 245,
   "metadata": {
    "colab": {
     "base_uri": "https://localhost:8080/"
    },
    "id": "BKbUkbILcvVa",
    "outputId": "74485541-a791-4073-c178-63d3a4768c8b"
   },
   "outputs": [
    {
     "data": {
      "image/png": "[encoded data removed]",
      "text/plain": [
       "<Figure size 640x480 with 1 Axes>"
      ]
     },
     "metadata": {},
     "output_type": "display_data"
    }
   ],
   "source": [
    "b = Board(\"RQKRPPPP....pppprqkr\")\n",
    "b.draw()"
   ]
  },
  {
   "cell_type": "markdown",
   "metadata": {
    "id": "c4DubCDY45za"
   },
   "source": [
    "# Generating next states\n",
    "The program must be able to consider moving pieces just like a human would. The goal is a function which takes a board state and makes all possible moves."
   ]
  },
  {
   "cell_type": "markdown",
   "metadata": {},
   "source": [
    "# Genreiranje "
   ]
  },
  {
   "cell_type": "markdown",
   "metadata": {
    "id": "LlfjJlMqjrtl"
   },
   "source": [
    "## Preparation"
   ]
  },
  {
   "cell_type": "markdown",
   "metadata": {
    "id": "jgOrbUcHiT_t"
   },
   "source": [
    "- The following block contains useful functions called in the \"theory\" function in charge of generating the first genration of moves.\n",
    "- Some will be illegal and need to be removed. More on that later."
   ]
  },
  {
   "cell_type": "code",
   "execution_count": 150,
   "metadata": {
    "id": "DXApljApdUNb"
   },
   "outputs": [],
   "source": [
    "#used for debugging: marks moves from \"moves\" on the board\n",
    "def mark(board, moves):\n",
    "  for coord in moves:\n",
    "    x = coord[0]\n",
    "    y = coord[1]\n",
    "    board.field[x][y] = '-'\n",
    "\n",
    "#definiton of p-infinity distance\n",
    "def dist(p1, p2):\n",
    "  return max(abs(p1[0]-p2[0]), abs(p1[1]-p2[1]))\n",
    "\n",
    "#returns coordinates of the suqare one move awaf from the \"coord\" towards the \"origin\"\n",
    "def stepCloser(origin, coord):\n",
    "  direction = (origin[0]-coord[0],origin[1]-coord[1])\n",
    "  length = max( abs(direction[0]), abs(direction[1]) )\n",
    "  normalized = (int(direction[0]/length), int(direction[1]/length))\n",
    "  return ( normalized[0] + coord[0], normalized[1] + coord[1] )\n",
    "\n",
    "#check if two squares p1 and p2 hold pieces which are enemies to each other\n",
    "def foe(board, p1, p2):\n",
    "  piece1 = board.field[p1[0]][p1[1]]\n",
    "  piece2 = board.field[p2[0]][p2[1]]\n",
    "  if(piece1 == '.' or piece2 == '.'):\n",
    "    return False\n",
    "\n",
    "  if(color[piece1] != color[piece2]):\n",
    "    return True\n",
    "  else:\n",
    "    return False\n",
    "\n",
    "#check if two squares p1 and p2 hold pieces of the same color\n",
    "def friend(board, p1, p2):\n",
    "  piece1 = board.field[p1[0]][p1[1]]\n",
    "  piece2 = board.field[p2[0]][p2[1]]\n",
    "  if(piece1 == '.' or piece2 == '.'):\n",
    "    return False\n",
    "\n",
    "  if(color[piece1] == color[piece2]):\n",
    "    return True\n",
    "  else:\n",
    "    return False\n",
    "\n",
    "#used for eliminating theoretical moves which would result in moving \"through\" other pieces\n",
    "#capturing enemies is of course allowed\n",
    "#the \"origin\" contains coordinates of the square for whose piece we are filtering moves\n",
    "def filter(board, origin, moves):\n",
    "  piece = board.field[origin[0]][origin[1]]\n",
    "  captures = []\n",
    "  filtered = []\n",
    "\n",
    "  for distance in range(1,5):\n",
    "    for coord in moves:\n",
    "      \n",
    "      if(dist(coord,origin) == distance):\n",
    "        filtered.append(coord)\n",
    "\n",
    "        if(friend(board, origin, coord) and filtered.count(coord) > 0):\n",
    "          filtered.remove(coord)\n",
    "\n",
    "        if(foe(board, origin, coord)):\n",
    "          captures.append(coord)\n",
    "\n",
    "        if(distance > 1):\n",
    "          closer = stepCloser(origin, coord)\n",
    "\n",
    "          if(filtered.count(closer) == 0 and filtered.count(coord) > 0):\n",
    "            filtered.remove(coord)\n",
    "\n",
    "          if(captures.count(closer) > 0 and filtered.count(coord) > 0):\n",
    "            filtered.remove(coord)\n",
    "\n",
    "  #special check for castling\n",
    "  #ignore hypocondition\n",
    "  if(piece == 'K' and not board.wic):\n",
    "\n",
    "    hypoConditionW = True\n",
    "\n",
    "    if(board.castleW[0] and board.castleW[1] and board.field[1][0] == '.' and hypoConditionW): filtered.append((origin[0]-2,origin[1])) #castle left\n",
    "    if(board.castleW[2] and board.castleW[1]): filtered.append((origin[0]+1,origin[1])) #castle right\n",
    "\n",
    "  if(piece == 'k' and not board.bic):\n",
    "\n",
    "    hypoConditionB = True\n",
    "\n",
    "    if(board.castleB[0] and board.castleB[1] and board.field[1][4] == '.' and hypoConditionB): filtered.append((origin[0]-2,origin[1])) #castle left\n",
    "    if(board.castleB[2] and board.castleB[1]): filtered.append((origin[0]+1,origin[1])) #castle right\n",
    "           \n",
    "  return filtered"
   ]
  },
  {
   "cell_type": "markdown",
   "metadata": {
    "id": "iNDQlqGGLmdM"
   },
   "source": [
    "- The \"theory\" is a function for generating theoretical moves ignoring rules regarding \"king in check\".\n",
    "- The \"coord\" holds coordinates of the piece we are considering."
   ]
  },
  {
   "cell_type": "code",
   "execution_count": 151,
   "metadata": {
    "id": "HaOC4sA-iypL"
   },
   "outputs": [],
   "source": [
    "def theory(board, coord):\n",
    "  piece = board.field[coord[0]][coord[1]]\n",
    "  moves = ()\n",
    "\n",
    "  #king case\n",
    "  if(piece == 'K' or piece == 'k'):\n",
    "    for i in range(-1,2):\n",
    "      for j in range(-1,2):\n",
    "        if(0 <= coord[0] + i <= 3 and 0 <= coord[1] + j <= 4 and (i!=0 or j!=0)):\n",
    "          moves += ((coord[0] + i, coord[1] + j),)\n",
    "\n",
    "  #queen case\n",
    "  elif(piece == 'Q' or piece == 'q'):\n",
    "    for i in range(-3,4):\n",
    "      for j in range(-4,5):\n",
    "        x = i + coord[0]\n",
    "        y = j + coord[1]\n",
    "        if(0 <= x <= 3 and 0 <= y <= 4 and (i==0 or j==0) and not(i==j)):\n",
    "          moves += ((x,y),)\n",
    "        if(0 <= x <= 3 and 0 <= y <= 4 and i != 0 and abs(j/i) == 1 ):\n",
    "          moves += ((x,y),)\n",
    "\n",
    "  #rook case\n",
    "  elif(piece == 'R' or piece == 'r'):\n",
    "    for i in range(-3,4):\n",
    "      for j in range(-4,5):\n",
    "        x = i + coord[0]\n",
    "        y = j + coord[1]\n",
    "        if(0 <= x <= 3 and 0 <= y <= 4 and (i==0 or j==0) and not(i==j)):\n",
    "          moves += ((x,y),)\n",
    "\n",
    "  #white pawn case\n",
    "  elif(piece == 'P'):\n",
    "    x = coord[0]\n",
    "    y = coord[1]\n",
    "    \n",
    "    if(y<=3 and board.field[x][y+1]=='.'): moves += ((x,y+1),)\n",
    "    #if it is on starting rank it can move two places forward\n",
    "    if(y == 1 and board.field[x][y+1]=='.' and board.field[x][y+2]=='.'): moves += ((x,y+2),)\n",
    "\n",
    "    #if it can capture diagonally\n",
    "    if(x+1 <= 3 and ( foe(board,(x,y),(x+1,y+1)) or board.enPassantB == (x+1,y+1) )):\n",
    "      moves += ((x+1,y+1),)\n",
    "    if( x-1 >= 0 and ( foe(board,(x,y),(x-1,y+1)) or board.enPassantB == (x-1,y+1) )):\n",
    "        moves += ((x-1,y+1),)\n",
    "\n",
    "  #black pawn case\n",
    "  elif(piece == 'p'):\n",
    "    x = coord[0]\n",
    "    y = coord[1]\n",
    "    \n",
    "    if(y>=1 and board.field[x][y-1]=='.'): moves += ((x,y-1),)\n",
    "    #if it is on starting rank it can move two places forward\n",
    "    if(y == 3 and board.field[x][y-1]=='.' and board.field[x][y-2]=='.'): moves += ((x,y-2),)\n",
    "\n",
    "    #if it can capture diagonally\n",
    "    if(x+1 <= 3 and foe(board,(x,y),(x+1,y-1))): #add enPassant!\n",
    "      moves += ((x+1,y-1),)\n",
    "    if(x-1 >= 0 and foe(board,(x,y),(x-1,y-1))):\n",
    "        moves += ((x-1,y-1),)\n",
    "  \n",
    "  moves = filter(board,coord,moves)\n",
    "\n",
    "  return moves"
   ]
  },
  {
   "cell_type": "markdown",
   "metadata": {
    "id": "dVydU-KHmHrr"
   },
   "source": [
    "Demonstration:\n",
    "- Squares marked with \"-\" are the result of the \"theory\" function being called."
   ]
  },
  {
   "cell_type": "code",
   "execution_count": 152,
   "metadata": {
    "colab": {
     "base_uri": "https://localhost:8080/"
    },
    "id": "mVH7YVo-mKOw",
    "outputId": "8554697e-975a-4e89-f0c0-68d14f9f300e"
   },
   "outputs": [
    {
     "name": "stdout",
     "output_type": "stream",
     "text": [
      "[]\n",
      "  +---+---+---+---+\n",
      "5 |   |   |   |   |\n",
      "  +---+---+---+---+\n",
      "4 | q |   | Ʀ |   |\n",
      "  +---+---+---+---+\n",
      "3 |   |   |   |   |\n",
      "  +---+---+---+---+\n",
      "2 |   |   | ₭ |   |\n",
      "  +---+---+---+---+\n",
      "1 |   |   |   |   |\n",
      "  +---+---+---+---+\n",
      "    a   b   c   d\n",
      "[]\n",
      "\n",
      "[]\n",
      "  +---+---+---+---+\n",
      "5 |   |   | - |   |\n",
      "  +---+---+---+---+\n",
      "4 | - | - | Ʀ | - |\n",
      "  +---+---+---+---+\n",
      "3 |   |   | - |   |\n",
      "  +---+---+---+---+\n",
      "2 |   |   | ₭ |   |\n",
      "  +---+---+---+---+\n",
      "1 |   |   |   |   |\n",
      "  +---+---+---+---+\n",
      "    a   b   c   d\n",
      "[]\n",
      "\n"
     ]
    }
   ],
   "source": [
    "theoryTest = Board(\".... ..K. .... q.R. ....\")\n",
    "print(theoryTest)\n",
    "mvs = theory(theoryTest,(2,3))\n",
    "mark(theoryTest,mvs)\n",
    "print(theoryTest)"
   ]
  },
  {
   "cell_type": "markdown",
   "metadata": {
    "id": "JxfXyAwgjVtn"
   },
   "source": [
    "- The \"refresh\" function will be called every time a piece is moved:\n",
    "  - to promote pawns on last ranks.\n",
    "  - to memorize the en passant square if there is one.\n",
    "  - to update castling rights.\n",
    "  - to check if kings are in check."
   ]
  },
  {
   "cell_type": "code",
   "execution_count": 153,
   "metadata": {
    "id": "iTYwEEvYit9m"
   },
   "outputs": [],
   "source": [
    "\n",
    "#finds coordinates of the white king\n",
    "def findWhiteKing(board):\n",
    "  K = (-1,-1)\n",
    "  for i in range(0,4):\n",
    "    for j in range(0,5):\n",
    "      if(board.field[i][j] == 'K'):\n",
    "        K = (i,j)\n",
    "  return K\n",
    "\n",
    "#finds the coordinates of the black king\n",
    "def findBlackKing(board):\n",
    "  k = (-1,-1)\n",
    "  for i in range(0,4):\n",
    "    for j in range(0,5):\n",
    "      if(board.field[i][j] == 'k'):\n",
    "        k = (i,j)\n",
    "  return k\n",
    "\n",
    "#sets the wic/bic class members to True or False\n",
    "def check(board):\n",
    "  K = (-1,-1)\n",
    "  k = (-1,-1)\n",
    "  K = findWhiteKing(board)\n",
    "  k = findBlackKing(board)\n",
    "  board.wic = False\n",
    "  board.bic = False\n",
    "  for i in range(0,4):\n",
    "    for j in range(0,5):\n",
    "\n",
    "      if(K != (-1,-1) and not board.wic and foe(board,K,(i,j))):\n",
    "        moves = theory(board,(i,j))\n",
    "        if(moves.count(K) > 0):\n",
    "          board.wic = True\n",
    "          \n",
    "      if(K != (-1,-1) and not board.bic and foe(board,k,(i,j))):\n",
    "        moves = theory(board,(i,j))\n",
    "        if(moves.count(k) > 0):\n",
    "          board.bic = True\n",
    "\n",
    "#promotes pawns on last ranks to queens\n",
    "def promote(board):\n",
    "  for i in range(0,4):\n",
    "    if(board.field[i][4] == 'P'):\n",
    "      board.field[i][4] = 'Q'\n",
    "    if(board.field[i][0] == 'p'):\n",
    "      board.field[i][0] = 'q'  \n",
    "\n",
    "#castles and updates rights according to the rules listed before Board implementation\n",
    "def castling(board):\n",
    "  #rook and king switching places if player castled\n",
    "  #for white\n",
    "  if(board.field[0][0] == 'K' and board.castleW[0] and board.castleW[1]): board.field[2][0] = 'R' #castling left\n",
    "  elif(board.field[3][0] == 'K' and board.castleW[2] and board.castleW[1]): board.field[2][0] = 'R' #castling right\n",
    "  #for black\n",
    "  if(board.field[0][4] == 'k' and board.castleB[0] and board.castleB[1]): board.field[2][4] = 'r' #castling left\n",
    "  elif(board.field[3][4] == 'k' and board.castleB[2] and board.castleB[1]): board.field[2][4] = 'r' #castling right\n",
    "\n",
    "  if(board.castleW[0] and board.field[0][0] != 'R'): board.castleW[0] = False\n",
    "  if(board.castleW[1] and board.field[2][0] != 'K'): board.castleW[1] = False\n",
    "  if(board.castleW[2] and board.field[3][0] != 'R'): board.castleW[2] = False\n",
    "\n",
    "  if(board.castleB[0] and board.field[0][4] != 'r'): board.castleB[0] = False\n",
    "  if(board.castleB[1] and board.field[2][4] != 'k'): board.castleB[1] = False\n",
    "  if(board.castleB[2] and board.field[3][4] != 'r'): board.castleB[2] = False\n",
    "\n",
    "#takes care of en passant rules listed before Board class implementation\n",
    "def pawns(board):\n",
    "  foundW = False\n",
    "  foundB = False\n",
    "\n",
    "  #capturing the pawn's \"ghost\" if it moved two squares\n",
    "  for i in range(0,4):\n",
    "    if(board.field[i][2] == 'P' and board.enPassantB == (i,2)):\n",
    "      board.capturedB.append(board.field[i][1])\n",
    "      board.field[i][1] = '.'\n",
    "    if(board.field[i][2] == 'p' and board.enPassantW == (i,2)):\n",
    "      board.capturedW.append(board.field[i][3])\n",
    "      board.field[i][3] = '.'\n",
    "\n",
    "  for i in range(0,4):\n",
    "    if(board.field[i][3] == 'P' and board.pawnsW[i]): #means the first move that pawn made was a double move\n",
    "      board.enPassantW = (i,2)\n",
    "      foundW = True\n",
    "      break\n",
    "    if(board.field[i][1] == 'p' and board.pawnsB[i]): #means the first move that pawn made was a double move\n",
    "      board.enPassantB = (i,2)\n",
    "      foundB = True\n",
    "      break\n",
    "  if(not foundW): board.enPassantW = (-1,-1)\n",
    "  if(not foundB): board.enPassantB = (-1,-1)\n",
    "\n",
    "  for i in range(0,4):\n",
    "    if(board.pawnsW[i] and board.field[i][1] != 'P'): board.pawnsW[i] = False\n",
    "    if(board.pawnsB[i] and board.field[i][3] != 'p'): board.pawnsB[i] = False\n",
    "\n",
    "#calls everything defined before\n",
    "def refresh(board):\n",
    "  #order is important\n",
    "  promote(board)\n",
    "  castling(board)\n",
    "  pawns(board)\n",
    "  #check is always last\n",
    "  check(board)"
   ]
  },
  {
   "cell_type": "markdown",
   "metadata": {
    "id": "9I5uOqPQC35j"
   },
   "source": [
    " - The \"moveR\" function is used for making moves regardless of if they are legal. The \"R\" stands for refresh which is called after moving the piece to update the state."
   ]
  },
  {
   "cell_type": "code",
   "execution_count": 154,
   "metadata": {
    "id": "9zDul1lobcHo"
   },
   "outputs": [],
   "source": [
    "def _toggleI(self):\n",
    "  if(self.toMove == \"white\"): self.toMove = \"black\"\n",
    "  else: self.toMove = \"white\"\n",
    "\n",
    "Board.toggleI = _toggleI\n",
    "\n",
    "#moves a piece from \"beg\" square to \"end\" square and calls \"refresh\"\n",
    "#and toggles the initiative\n",
    "def _moveR(self,beg,end):\n",
    "  new = copy.deepcopy(self)\n",
    "\n",
    "  captured = new.field[end[0]][end[1]]\n",
    "  capturing = new.field[beg[0]][beg[1]]\n",
    "  new.field[end[0]][end[1]] = new.field[beg[0]][beg[1]]\n",
    "  new.field[beg[0]][beg[1]] = '.'\n",
    "\n",
    "  if(color[captured] == \"black\" and color[capturing] == \"white\"): \n",
    "    new.capturedB.append(captured)\n",
    "  elif(color[captured] == \"white\" and color[capturing] == \"black\"): \n",
    "    new.capturedW.append(captured)\n",
    "  refresh(new)\n",
    "\n",
    "  new.toggleI()\n",
    "\n",
    "  return new\n",
    "\n",
    "Board.moveR = _moveR"
   ]
  },
  {
   "cell_type": "markdown",
   "metadata": {
    "id": "GTCvccYYgb_l"
   },
   "source": [
    "- Here is a function for generating legal moves. Argument \"coord\" holds coordinates of the board square for whose piece we want to find legal moves.\n",
    "- In this case moves which break any rules regarding \"king in check\" are eliminated."
   ]
  },
  {
   "cell_type": "code",
   "execution_count": 155,
   "metadata": {
    "id": "dFiCsc47k8ps"
   },
   "outputs": [],
   "source": [
    "def legalMoves(board,coord):\n",
    "  piece = board.field[coord[0]][coord[1]]\n",
    "  moves = theory(board, coord)\n",
    "\n",
    "  #remove castling through check\n",
    "  if(piece == 'K' and moves.count((0,0)) > 0 and coord == (2,0)):\n",
    "    hboard = board.moveR((2,0),(1,0))\n",
    "    if(hboard.wic == True): moves.remove((0,0))\n",
    "  elif(piece == 'k' and moves.count((0,4)) > 0 and coord == (2,4)):\n",
    "    hboard = board.moveR((2,4),(1,4))\n",
    "    if(hboard.bic == True): moves.remove((0,4))\n",
    "\n",
    "  #remove moves which cause checks on the friendly king \n",
    "  filtered = []\n",
    "  if(color[piece]==\"white\"):\n",
    "    for move in moves:\n",
    "      hboard = board.moveR(coord,move)\n",
    "      if(not hboard.wic): filtered.append(move)\n",
    "    moves = filtered\n",
    "  \n",
    "  if(color[piece]==\"black\"):\n",
    "    for move in moves:\n",
    "      hboard = board.moveR(coord,move)\n",
    "      if(not hboard.bic): filtered.append(move)\n",
    "    moves = filtered\n",
    "\n",
    "  return moves\n"
   ]
  },
  {
   "cell_type": "markdown",
   "metadata": {
    "id": "qfPl_Z5and43"
   },
   "source": [
    "## The final function"
   ]
  },
  {
   "cell_type": "code",
   "execution_count": 156,
   "metadata": {
    "id": "lsiN8t7T4-21"
   },
   "outputs": [],
   "source": [
    "def nextStates(board):\n",
    "  boards = []\n",
    "  if(board.toMove == \"white\"):\n",
    "    for i in range(0,4):\n",
    "      for j in range(0,5):\n",
    "        piece = board.field[i][j]\n",
    "        if(color[piece] == \"white\"):\n",
    "          mvs = legalMoves(board,(i,j))\n",
    "          for move in mvs:\n",
    "            new = board.moveR((i,j),move)\n",
    "            boards.append(new)\n",
    "\n",
    "  if(board.toMove == \"black\"):\n",
    "    for i in range(0,4):\n",
    "      for j in range(0,5):\n",
    "        piece = board.field[i][j]\n",
    "        if(color[piece] == \"black\"):\n",
    "          mvs = legalMoves(board,(i,j))\n",
    "          for move in mvs:\n",
    "            new = board.moveR((i,j),move)\n",
    "            boards.append(new)\n",
    "            \n",
    "  return boards\n",
    "          "
   ]
  },
  {
   "cell_type": "code",
   "execution_count": 157,
   "metadata": {
    "colab": {
     "base_uri": "https://localhost:8080/"
    },
    "id": "J09NVNjH7Yz3",
    "outputId": "72c573f5-9b83-4fc4-bf50-10d3aa7f29db"
   },
   "outputs": [
    {
     "data": {
      "image/png": "[encoded data removed]",
      "text/plain": [
       "<Figure size 640x480 with 1 Axes>"
      ]
     },
     "metadata": {},
     "output_type": "display_data"
    },
    {
     "data": {
      "image/png": "[encoded data removed]",
      "text/plain": [
       "<Figure size 640x480 with 1 Axes>"
      ]
     },
     "metadata": {},
     "output_type": "display_data"
    },
    {
     "data": {
      "image/png": "[encoded data removed]",
      "text/plain": [
       "<Figure size 640x480 with 1 Axes>"
      ]
     },
     "metadata": {},
     "output_type": "display_data"
    },
    {
     "data": {
      "image/png": "[encoded data removed]",
      "text/plain": [
       "<Figure size 640x480 with 1 Axes>"
      ]
     },
     "metadata": {},
     "output_type": "display_data"
    },
    {
     "data": {
      "image/png": "[encoded data removed]",
      "text/plain": [
       "<Figure size 640x480 with 1 Axes>"
      ]
     },
     "metadata": {},
     "output_type": "display_data"
    },
    {
     "data": {
      "image/png": "[encoded data removed]",
      "text/plain": [
       "<Figure size 640x480 with 1 Axes>"
      ]
     },
     "metadata": {},
     "output_type": "display_data"
    }
   ],
   "source": [
    "bb = Board(\"RQKR PPPP .... pppp rqkr\")\n",
    "bb.draw()\n",
    "bb = bb.moveR((0,1),(0,2))\n",
    "novi = nextStates(bb)\n",
    "for b in novi:\n",
    "  b.draw()"
   ]
  },
  {
   "cell_type": "markdown",
   "metadata": {
    "id": "l7lO-q0nMYf7"
   },
   "source": [
    "# Heuristics for evaluation\n",
    "Since the AI will not simulate games untill the end we need a heuristic to judge how good a position is when a certain state tree depth is reached."
   ]
  },
  {
   "cell_type": "markdown",
   "metadata": {
    "id": "8bhJKCkKOlzQ"
   },
   "source": [
    "\n",
    "- If black has a better position the value will be in the negative and if white has it it will be in the positive.\n",
    "- Here are some useful functions which will help determine the quality of positions. The \"value\" functions return the value sum of freindly pieces."
   ]
  },
  {
   "cell_type": "code",
   "execution_count": 158,
   "metadata": {
    "id": "CxgPQpFtMa7q"
   },
   "outputs": [],
   "source": [
    "value = {\n",
    "    #white pieces\n",
    "    'K': 10,\n",
    "    'Q': 9,\n",
    "    'R': 5,\n",
    "    'P': 1,\n",
    "    #black pieces\n",
    "    'k': 10,\n",
    "    'q': 9,\n",
    "    'r': 5,\n",
    "    'p': 1,\n",
    "}\n",
    "\n",
    "def valueW(board):\n",
    "  sum = 0\n",
    "  for i in range(0,4):\n",
    "    for j in range(0,5):\n",
    "      piece = board.field[i][j]\n",
    "      if(color[piece] == \"white\"): sum += value[piece]\n",
    "  return sum\n",
    "\n",
    "def valueB(board):\n",
    "  sum = 0\n",
    "  for i in range(0,4):\n",
    "    for j in range(0,5):\n",
    "      piece = board.field[i][j]\n",
    "      if(color[piece] == \"black\"): sum += value[piece]\n",
    "  return sum"
   ]
  },
  {
   "cell_type": "markdown",
   "metadata": {
    "id": "RhJciXRt1Uz8"
   },
   "source": [
    "## An expensive heuristic\n",
    "This chapter is not an integral part of the final solution. The games work without it, but it demonstrates a learning process and how an approach to the problem can be modified.\n",
    "- The problem, as the title might suggest, is that this function is of great complexity and takes too much time to compute a value. Since the number of leaves grows exponentially with depth there is a supstantial decrease in performance when the AI has a task of looking more than three moves ahead.\n",
    "- Altho the value returned for the position is realistic it turned out that the naive approach explained in the **A CHEAP HEURISTIC** chapter is superior. Especially when the AI has to come up with a checkmate pattern."
   ]
  },
  {
   "cell_type": "markdown",
   "metadata": {
    "id": "4LR1MUym0bXc"
   },
   "source": [
    "- It looks naive to evaluate a position right after a capture if there is a way for the opponent to regain the value balance present before the capture.\n",
    "- Example:"
   ]
  },
  {
   "cell_type": "code",
   "execution_count": 159,
   "metadata": {
    "colab": {
     "base_uri": "https://localhost:8080/"
    },
    "id": "kJcX6koN05oy",
    "outputId": "887c97b6-1e9b-4b78-cb80-781ae6bab7da"
   },
   "outputs": [
    {
     "name": "stdout",
     "output_type": "stream",
     "text": [
      "white to move\n",
      " []\n",
      "  +---+---+---+---+\n",
      "5 |   |   | k |   |\n",
      "  +---+---+---+---+\n",
      "4 |   |   | i |   |\n",
      "  +---+---+---+---+\n",
      "3 |   |   |   |   |\n",
      "  +---+---+---+---+\n",
      "2 |   |   | Ʀ |   |\n",
      "  +---+---+---+---+\n",
      "1 |   | ₭ |   |   |\n",
      "  +---+---+---+---+\n",
      "    a   b   c   d\n",
      "[]\n",
      "\n",
      "15 11\n"
     ]
    }
   ],
   "source": [
    "test = Board(\".K.. ..R. .... ..p. ..k.\")\n",
    "refresh(test)\n",
    "print(\"white to move\\n\", test)\n",
    "print(valueW(test),valueB(test))"
   ]
  },
  {
   "cell_type": "markdown",
   "metadata": {
    "id": "tjpZnc4l1tds"
   },
   "source": [
    "- If a state as above was reached at the predefined depth for the min-max algorithm, the max algorithm (from the white's perspective) has to use a heuristic for evaluating the position. Some implementations could suggest that capturing the pawn with the rook is the best move and not consider the black king's option to recapture and actually profit from the trade.\n",
    "- Note: If the value of the captured piece is (here a pawn) is greater than the value of the capturing piece, there is no problem. That is an acceptable move even if the attacking piece is recaptured.\n",
    "- A naive solution would be to always run one more iteration of the algorithm within the evaluating funcfion and rule out the moves for which there is an immediate response from the enemy player. Apart from extending thr depth, here is another problem with that approach. Let's explore in the next example.\n",
    "- Example:"
   ]
  },
  {
   "cell_type": "code",
   "execution_count": 160,
   "metadata": {
    "colab": {
     "base_uri": "https://localhost:8080/"
    },
    "id": "7fh3hvXt67yu",
    "outputId": "02f284e5-a5b5-4fb0-e261-7df82a995292"
   },
   "outputs": [
    {
     "name": "stdout",
     "output_type": "stream",
     "text": [
      "white to move\n",
      "[]\n",
      "  +---+---+---+---+\n",
      "5 |   |   | r | k |\n",
      "  +---+---+---+---+\n",
      "4 |   |   |   |   |\n",
      "  +---+---+---+---+\n",
      "3 | Φ |   | i |   |\n",
      "  +---+---+---+---+\n",
      "2 |   |   |   |   |\n",
      "  +---+---+---+---+\n",
      "1 | ₭ |   | Ʀ |   |\n",
      "  +---+---+---+---+\n",
      "    a   b   c   d\n",
      "[]\n",
      "\n"
     ]
    }
   ],
   "source": [
    "test2 = Board(\"K.R. .... Q.p. .... ..rk\")\n",
    "refresh(test2)\n",
    "print(\"white to move\")\n",
    "print(test2)"
   ]
  },
  {
   "cell_type": "markdown",
   "metadata": {
    "id": "t7qBd0dh9P7I"
   },
   "source": [
    "- If we limit our evaluator function's view to just one move response of the enemy player, it might miss opportunities where it is actually acceptable to capture a piece. As we can see in the example above, white can capture the pawn with the rook because there is a white queen on a3 also attacking c3 and if black decides to recapture with the rook on c5 it would only lose more material. \n",
    "- There is one problem. It would not make sense for white to capture with the queen first because the immediate response from black would result in white losing 9 points while gaining 1+5 after the complete trade is over. That is why we need an algorithim which will capture with the attacker of least value first. \n",
    "- The next blocks of code will try to ensure such functionality. \"attackers\" functions return a list of attackers on a square with target coordinates."
   ]
  },
  {
   "cell_type": "code",
   "execution_count": 161,
   "metadata": {
    "id": "mueoCKL_AG2k"
   },
   "outputs": [],
   "source": [
    "def _piece(self, coord):\n",
    "  return self.field[coord[0]][coord[1]]\n",
    "\n",
    "Board.piece = _piece\n",
    "\n",
    "def wAttackers(board, target):\n",
    "  allAttackers = []\n",
    "  cboard = copy.deepcopy(board)\n",
    "  cboard.field[target[0]][target[1]] = 'q'\n",
    "\n",
    "  for level in range(0,4):\n",
    "    attackers = []\n",
    "    for i in range(0,4):\n",
    "      for j in range(0,5):\n",
    "        piece = cboard.piece((i,j))\n",
    "        if(color[piece] == \"white\"):\n",
    "          lm = legalMoves(cboard, (i,j))\n",
    "          for move in lm:\n",
    "            if(move == target): \n",
    "              attackers.append((i,j))\n",
    "              break\n",
    "    #removing all the attackers from this level and imagining that they got captured in the trade\n",
    "    #after they are removed there is a potetntial for making space for attackers hidden behind\n",
    "    for a in attackers:\n",
    "      cboard.field[a[0]][a[1]] = '.'\n",
    "    allAttackers.extend(attackers)\n",
    "\n",
    "  for i in range(0,4):\n",
    "    for j in range(0,5):\n",
    "      if(dist((i,j),(target)) == 1 and board.piece((i,j)) == 'K'): allAttackers.append((i,j))\n",
    "\n",
    "  return allAttackers\n",
    "\n",
    "def bAttackers(board, target):\n",
    "  allAttackers = []\n",
    "  cboard = copy.deepcopy(board)\n",
    "  cboard.field[target[0]][target[1]] = 'Q'\n",
    "\n",
    "  for level in range(0,4):\n",
    "    attackers = []\n",
    "    for i in range(0,4):\n",
    "      for j in range(0,5):\n",
    "        piece = cboard.piece((i,j))\n",
    "        if(color[piece] == \"black\"):\n",
    "          lm = legalMoves(cboard, (i,j))\n",
    "          for move in lm:\n",
    "            if(move == target): \n",
    "              attackers.append((i,j))\n",
    "              break\n",
    "    #removing all the attackers from this level and imagining that they got captured in the trade\n",
    "    #after they are removed there is a potetntial for making space for attackers hidden behind\n",
    "    for a in attackers:\n",
    "      cboard.field[a[0]][a[1]] = '.'\n",
    "    allAttackers.extend(attackers)\n",
    "\n",
    "  for i in range(0,4):\n",
    "    for j in range(0,5):\n",
    "      if(dist((i,j),(target)) == 1 and board.piece((i,j)) == 'k'): allAttackers.append((i,j))\n",
    "\n",
    "  return allAttackers"
   ]
  },
  {
   "cell_type": "markdown",
   "metadata": {
    "id": "reKfzyg9RqZB"
   },
   "source": [
    "- The attack function finds the lowest value piece (which can attack) in the available list of attackers and simulates the attack. It is color-independent. "
   ]
  },
  {
   "cell_type": "code",
   "execution_count": 162,
   "metadata": {
    "id": "UmkOaKsUY20a"
   },
   "outputs": [],
   "source": [
    "def minValueCoord(board, attackers):\n",
    "  min = 1001\n",
    "  minC = (-1,-1)\n",
    "  for coord in attackers:\n",
    "    piece = board.piece(coord)\n",
    "    if(value[piece] < min):\n",
    "      min = value[piece]\n",
    "      minC = coord\n",
    "  return minC\n",
    "\n",
    "def attack(board, attackers, target):\n",
    "\n",
    "  attacked = False\n",
    "  att = copy.deepcopy(attackers)\n",
    "  new = copy.deepcopy(board)\n",
    "\n",
    "  while(not attacked and len(att)>0):\n",
    "    mvc = minValueCoord(board,att)\n",
    "    lm = legalMoves(board, mvc)\n",
    "\n",
    "    for move in lm:\n",
    "      if(move == target):\n",
    "       new = board.moveR(mvc,target)\n",
    "       attackers.remove(mvc)\n",
    "       attacked = True\n",
    "       break\n",
    "    if(not attacked): att.remove(mvc)\n",
    "    \n",
    "  return [attacked, new]"
   ]
  },
  {
   "cell_type": "markdown",
   "metadata": {
    "id": "s2rWd1YlRKLx"
   },
   "source": [
    "- The \"hanging\" functions return True if the friendly piece can safely be captured by the opponent - without losing value in material. "
   ]
  },
  {
   "cell_type": "code",
   "execution_count": 163,
   "metadata": {
    "id": "cUMKrtehP93d"
   },
   "outputs": [],
   "source": [
    "#provided that black is to move\n",
    "def hangingW(board, target):\n",
    "  \n",
    "  res = [False, copy.deepcopy(board)]\n",
    "  iBalance = valueW(board) - valueB(board)\n",
    "  blackWilling = True\n",
    "  ba = bAttackers(board, target)\n",
    "  wa = wAttackers(board, target)\n",
    "\n",
    "  while(len(ba)>0 and blackWilling):\n",
    "    res = attack(res[1], ba, target)\n",
    "    if(len(wa)==0 or not res[0]): break\n",
    "    else:\n",
    "      res = attack(res[1], wa, target)\n",
    "      if(not res[0]): break\n",
    "      balance = valueW(res[1]) - valueB(res[1])\n",
    "      if(balance < iBalance): blackWilling = False\n",
    "  \n",
    "  balance = valueW(res[1]) - valueB(res[1])\n",
    "  if(balance < iBalance): return True\n",
    "  else: return False\n",
    "\n",
    "#provided that white is to move\n",
    "def hangingB(board, target):\n",
    "  \n",
    "  res = [False, copy.deepcopy(board)]\n",
    "  iBalance = valueW(board) - valueB(board)\n",
    "  whiteWilling = True\n",
    "  ba = bAttackers(board, target)\n",
    "  wa = wAttackers(board, target)\n",
    "\n",
    "  while(len(wa)>0 and whiteWilling):\n",
    "    res = attack(res[1], wa, target)\n",
    "    if(len(ba)==0 or not res[0]): break\n",
    "    else:\n",
    "      res = attack(res[1], ba, target)\n",
    "      if(not res[0]): break\n",
    "      balance = valueW(res[1]) - valueB(res[1])\n",
    "      if(balance > iBalance): whiteWilling = False\n",
    "  \n",
    "  balance = valueW(res[1]) - valueB(res[1])\n",
    "  if(balance > iBalance): return True\n",
    "  else: return False"
   ]
  },
  {
   "cell_type": "markdown",
   "metadata": {
    "id": "KRGeD1fEEPqG"
   },
   "source": [
    "- The \"material\" functions return the value sum of friendly pieces but without the most valuable hanging one. Provided that the opponent is to move, the best move they can make is to capture the hanging piece and gain material advantage."
   ]
  },
  {
   "cell_type": "code",
   "execution_count": 164,
   "metadata": {
    "id": "UwSEIJimBSjX"
   },
   "outputs": [],
   "source": [
    "def materialW(board):\n",
    "  sum = valueW(board) - 10\n",
    "  hangingValues = []\n",
    "\n",
    "  for i in range(0,4):\n",
    "    for j in range(0,5):\n",
    "      piece = board.piece((i,j))\n",
    "      if(color[piece] == \"white\"):\n",
    "        h = hangingW(board,(i,j))\n",
    "        if(h): hangingValues.append(value[piece])\n",
    "\n",
    "  if(len(hangingValues) > 0): sum -= max(hangingValues)\n",
    "  return sum\n",
    "\n",
    "def materialB(board):\n",
    "  sum = valueB(board) - 10\n",
    "  hangingValues = []\n",
    "\n",
    "  for i in range(0,4):\n",
    "    for j in range(0,5):\n",
    "      piece = board.piece((i,j))\n",
    "      if(color[piece] == \"black\"):\n",
    "        h = hangingB(board,(i,j))\n",
    "        if(h): hangingValues.append(value[piece])\n",
    "\n",
    "  if(len(hangingValues) > 0): sum -= max(hangingValues)\n",
    "  return sum\n",
    "\n",
    "def hHanging(board):\n",
    "  if(board.toMove == \"black\"):\n",
    "    wm = materialW(board) #since black is to move there might be hanging white pieces\n",
    "    bm = valueB(board)- 10 #subtracting the king\n",
    "\n",
    "    return wm - bm\n",
    "\n",
    "  if(board.toMove == \"white\"):\n",
    "    wm = valueW(board) - 10  #subtracting the king \n",
    "    bm = materialB(board) #since white is to move there might be hanging white pieces\n",
    "\n",
    "    return wm - bm"
   ]
  },
  {
   "cell_type": "markdown",
   "metadata": {
    "id": "793tEjSoR-4T"
   },
   "source": [
    "- Example:"
   ]
  },
  {
   "cell_type": "code",
   "execution_count": 165,
   "metadata": {
    "colab": {
     "base_uri": "https://localhost:8080/"
    },
    "id": "0zBXbzeOH7vY",
    "outputId": "b5f3726a-ffcf-4e02-efef-3429fd4cff5b"
   },
   "outputs": [
    {
     "name": "stdout",
     "output_type": "stream",
     "text": [
      "to move:\n",
      "white\n",
      "white king in check\n",
      "[]\n",
      "  +---+---+---+---+\n",
      "5 |   |   | k |   |\n",
      "  +---+---+---+---+\n",
      "4 |   |   | r |   |\n",
      "  +---+---+---+---+\n",
      "3 |   |   |   | i |\n",
      "  +---+---+---+---+\n",
      "2 |   |   | ₭ |   |\n",
      "  +---+---+---+---+\n",
      "1 |   |   |   | Ʀ |\n",
      "  +---+---+---+---+\n",
      "    a   b   c   d\n",
      "[]\n",
      "\n",
      "evaluation: \n",
      "0\n"
     ]
    }
   ],
   "source": [
    "g = Board(\"...R ..K. ...p ..r. ..k.\")\n",
    "g.toMove = \"white\"\n",
    "refresh(g)\n",
    "print(\"to move:\")\n",
    "print(g.toMove)\n",
    "print(g)\n",
    "print(\"evaluation: \")\n",
    "print(hHanging(g))"
   ]
  },
  {
   "cell_type": "markdown",
   "metadata": {
    "id": "EDcHYQxcR7bX"
   },
   "source": [
    "- In the example above the white king can capture the pawn safely and revert the material balance back to 0.\n",
    "- Example:"
   ]
  },
  {
   "cell_type": "code",
   "execution_count": 166,
   "metadata": {
    "colab": {
     "base_uri": "https://localhost:8080/"
    },
    "id": "B7WGvqvfSkV4",
    "outputId": "4ae3bb02-4641-4260-ad8d-73ae657caf4d"
   },
   "outputs": [
    {
     "name": "stdout",
     "output_type": "stream",
     "text": [
      "to move:\n",
      "black\n",
      "[]\n",
      "  +---+---+---+---+\n",
      "5 |   | q | k |   |\n",
      "  +---+---+---+---+\n",
      "4 |   | r |   |   |\n",
      "  +---+---+---+---+\n",
      "3 |   |   |   |   |\n",
      "  +---+---+---+---+\n",
      "2 | I | I | I | I |\n",
      "  +---+---+---+---+\n",
      "1 | Ʀ |   | ₭ | Ʀ |\n",
      "  +---+---+---+---+\n",
      "    a   b   c   d\n",
      "[]\n",
      "\n",
      "evaluation: \n",
      "-1\n"
     ]
    }
   ],
   "source": [
    "g = Board(\"R.KR PPPP .... .r.. .qk.\")\n",
    "g.toMove = \"black\"\n",
    "refresh(g)\n",
    "print(\"to move:\")\n",
    "print(g.toMove)\n",
    "print(g)\n",
    "print(\"evaluation: \")\n",
    "print(hHanging(g))"
   ]
  },
  {
   "cell_type": "markdown",
   "metadata": {
    "id": "L51U_7hgTYgF"
   },
   "source": [
    "- In the example above only the white king is defending the b-pawn and there are two black attackers on that file. "
   ]
  },
  {
   "cell_type": "markdown",
   "metadata": {
    "id": "py5DOXEt1t5m"
   },
   "source": [
    "## A cheap heuristic"
   ]
  },
  {
   "cell_type": "code",
   "execution_count": 167,
   "metadata": {
    "id": "YlKuggyiF_Dj"
   },
   "outputs": [],
   "source": [
    "\n",
    "#returns the difference between piece values of white and black player\n",
    "def hMaterialSum(board):\n",
    "  wm = valueW(board) - 10 #subtracting the king\n",
    "  bm = valueB(board) - 10 #subtracting the king\n",
    "    \n",
    "  return wm - bm\n",
    "\n",
    "#not used\n",
    "def hKingFreedom(board):\n",
    "  K = findWhiteKing(board)\n",
    "  k = findBlackKing(board)\n",
    "  movesW = legalMoves(board, K)\n",
    "  movesB = legalMoves(board, k)\n",
    "  wf = len(movesW)\n",
    "  bf = len(movesB)\n",
    "\n",
    "  return (wf - bf)/10 #dividing to normalize: [0,1]\n",
    "\n",
    "#this function rewards the player who has more\n",
    "#powerful pieces in the middle of the board\n",
    "def hCenterDomination(board):\n",
    "  sumW = 0\n",
    "  sumB = 0\n",
    "\n",
    "  p1 = board.field[1][1]\n",
    "  p2 = board.field[2][1]\n",
    "  p3 = board.field[1][3]\n",
    "  p4 = board.field[2][3]\n",
    "\n",
    "  p5 = board.field[1][2]\n",
    "  p6 = board.field[2][2]\n",
    "\n",
    "  L1 = (p1,p2,p3,p4)\n",
    "  L2 = (p5, p6)\n",
    "  for p in L1:\n",
    "    if(color[p]==\"white\"): sumW += value[p]\n",
    "    elif(color[p]==\"black\"): sumB += value[p]\n",
    "  for p in L2:\n",
    "    if(color[p]==\"white\"): sumW += value[p] * 2\n",
    "    elif(color[p]==\"black\"): sumB += value[p] * 2\n",
    "  \n",
    "  return (sumW - sumB)/50\n",
    "\n",
    "#having a king in check usually is not desirable\n",
    "#because it limits movement\n",
    "def hCheck(board):\n",
    "  if(board.wic): return -0.9\n",
    "  if(board.bic): return 0.9\n",
    "  else: return 0"
   ]
  },
  {
   "cell_type": "markdown",
   "metadata": {
    "id": "MGsZLZeeSgL8"
   },
   "source": [
    "- This evaluator might have naive goals in the long run, meaning it longs to capture pieces which might not be free to capture. \n",
    "- Let \"d\" be de depth of the state tree the AI explores from position \"P\". The advantage is that this function makes the AI good at punishing mistakes which lead to material loss within the next d number of moves. \n",
    "- If there are \"n\" defenders of an enemy piece and it turns out that it is \"hanging\" in position P (meaning it can be captured for free and material advantage can be obtained), then the AI can conclude that it is safe to capture if d >= 2*n + 2\n",
    "- This way the calculations explored in the **AN EXPENSIVE HEURISTIC** chapter are avoided.\n",
    "- Another advantage is the ability to find checkmates in d moves. It is demonstrated in **CHECKMATING EXERCISES**.\n",
    "- When the checkmate is too far to simulate, but the material advantage suggests that it should happen the AI's strategy is to aim for the center and have board control. Then the mate gets closer to P."
   ]
  },
  {
   "cell_type": "markdown",
   "metadata": {
    "id": "m2o8lnAs5oge"
   },
   "source": [
    "## The main heuristic\n",
    "The \"hMain\" function is what will be called in further implementations of the game so it is a place to insert evaluators.\n",
    "- It will contain a linear combination of previously defined board state evaluators.\n",
    "- The reader can experiment with the expensive evaluator by changing the return value and calling the \"hHanging\".\n",
    "- This proposed version sets weights for functions in the combination in a way so that it respects their importance. Smaller weights ensure that every point of advantage from a function of smaller importance does not trump the points from the more important functions. Example:\n",
    "  - There is no position which would make the AI think it is ok to give up a pawn for central domination. \n",
    "  - m(P1) - 1 + c(P2) < m(P1) + c(P1) for every P1 and P2; where m,c are material and centerDomination functions and P1, and P2 are positions."
   ]
  },
  {
   "cell_type": "code",
   "execution_count": 168,
   "metadata": {
    "id": "t2y676HYlTyb"
   },
   "outputs": [],
   "source": [
    "def hMain(board):\n",
    "  return hMaterialSum(board) + 0.9*hCenterDomination(board) + 0.01*hCheck(board)"
   ]
  },
  {
   "cell_type": "markdown",
   "metadata": {
    "id": "Rr4VqXsZLI0d"
   },
   "source": [
    "# Min-Max algorithm\n",
    "Here is an implementation of the well known algorithm from mathematical AI theory."
   ]
  },
  {
   "cell_type": "markdown",
   "metadata": {
    "id": "AVYB4myZgAkN"
   },
   "source": [
    "- The most important return value of the \"Min\" and \"Max\" is when a state tree leaf is a checkmate position.\n",
    "- In the first versions of the code all paths to the checkmate position were considered equally good. The AI was not capable of finding checkmates in one move if the depth limit was set to more than one. The reason was that the order of visiting new states and expanding fronts was not clever, but rather followed a simple pattern of looping through coordinates. The result was finding longer paths to the checkmate. There were positions where the black player allowed white good defense because it was trying to go the \"long way\". The problem is that it would \"forget\" the plan it had after a new move was made and new calculations made.\n",
    "- That is why there is a bonus to the position value. It is a beter position if it was reached higher in the tree."
   ]
  },
  {
   "cell_type": "code",
   "execution_count": 169,
   "metadata": {
    "id": "nI8cfYeJLLWj"
   },
   "outputs": [],
   "source": [
    "#it is important that this number is bigger than any evaluation value\n",
    "CHECK_MATE_CODE = 737\n",
    "\n",
    "#returns True if there is a check\n",
    "def mateTest(board):\n",
    "  if(board.toMove == \"black\" and board.bic and len(nextStates(board))==0): return True\n",
    "  if(board.toMove == \"white\" and board.wic and len(nextStates(board))==0): return True\n",
    "  return False\n",
    "\n",
    "#returns True if the max depth is reached\n",
    "#notice that depth is actually depth_limit minus the depth in the state tree\n",
    "def depthTest(depth):\n",
    "  if(depth == 0): return True\n",
    "  return False\n",
    "\n",
    "def MinValue(board, alpha, beta, depth, heuristic):\n",
    "  if(depthTest(depth)): return heuristic(board) \n",
    "  if(mateTest(board)): \n",
    "    #this was discussed earlier\n",
    "    if(board.wic): return - CHECK_MATE_CODE - depth\n",
    "    else: return CHECK_MATE_CODE + depth\n",
    "\n",
    "  value = 9899 #something bigger than all possible position evaluations\n",
    "  succs = nextStates(board)\n",
    "  if(len(succs)==0): return 0;\n",
    "\n",
    "  for board in succs:\n",
    "    value = min(value, MaxValue(board, alpha, beta, depth-1, heuristic))\n",
    "    if(value <= alpha): return value\n",
    "    beta = min(value, beta)\n",
    "\n",
    "  return value\n",
    "\n",
    "def MaxValue(board, alpha, beta, depth, heuristic):\n",
    "  if(depthTest(depth)): return heuristic(board) \n",
    "  if(mateTest(board)): \n",
    "    #this was discussed earlier\n",
    "    if(board.wic): return - CHECK_MATE_CODE - depth\n",
    "    else: return CHECK_MATE_CODE + depth\n",
    "\n",
    "  value = -9899 #something smaller than all possible position evaluations\n",
    "  succs = nextStates(board)\n",
    "  if(len(succs)==0): return 0; #means it is stalemate position\n",
    "\n",
    "  for board in succs:\n",
    "    value = max(value, MinValue(board, alpha, beta, depth-1, heuristic))\n",
    "    if(value >= beta): return value\n",
    "    alpha = max(value, alpha)\n",
    "\n",
    "  return value\n",
    "\n",
    "def MinMaxBlack(board, depth, heuristic):\n",
    "  succs = nextStates(board)\n",
    "  if(board.toMove == \"white\" or len(succs) == 0):\n",
    "    print(\"error\")\n",
    "    return\n",
    "  bestMove = succs[0]\n",
    "  minValue = 1001 #something bigger than all possible position evaluations\n",
    "\n",
    "  for board in succs:\n",
    "    value = MaxValue(board, -9999, 9999, depth-1, heuristic)\n",
    "    if(value < minValue): \n",
    "      minValue = value\n",
    "      bestMove = board\n",
    "  \n",
    "  print(\"AI evaluates: \", minValue)\n",
    "  return bestMove"
   ]
  },
  {
   "cell_type": "markdown",
   "metadata": {
    "id": "Cxs2LlFlcWfT"
   },
   "source": [
    "## Iterative depth Min-Max algorithm\n",
    "This one is very similar to the previous. The only change is that there are arguments used for checking if the available time has expired every time \"MinValue\" or \"MaxValue\" are called. If that is the case the stack is resolved by returning a special code TIME_ABORT_CODE to the first call in the recursion. Such a state tree will not be considered valid and its partial result will not be used in \"MinMAx\"."
   ]
  },
  {
   "cell_type": "code",
   "execution_count": 170,
   "metadata": {
    "id": "VRqu5zLncII7"
   },
   "outputs": [],
   "source": [
    "TIME_ABORT_CODE = 888\n",
    "CHECK_MATE_CODE = 737\n",
    "\n",
    "def mateTest(board):\n",
    "  if(board.toMove == \"black\" and board.bic and len(nextStates(board))==0): return True\n",
    "  if(board.toMove == \"white\" and board.wic and len(nextStates(board))==0): return True\n",
    "  return False\n",
    "\n",
    "def depthTest(depth):\n",
    "  if(depth == 0): return True\n",
    "  return False\n",
    "\n",
    "def timeEndTest(startTime, timeLimit):\n",
    "  if(time.time()-startTime > timeLimit): return True\n",
    "  else: return False\n",
    "\n",
    "def MinValueTime(board, alpha, beta, depth, heuristic, startTime, timeLimit):\n",
    "  if(time.time() - startTime > timeLimit): return TIME_ABORT_CODE\n",
    "  if(depthTest(depth)): return heuristic(board) \n",
    "  if(mateTest(board)): \n",
    "    if(board.wic): return - CHECK_MATE_CODE - depth\n",
    "    else: return CHECK_MATE_CODE + depth\n",
    "\n",
    "  value = 9899 #something bigger than all possible position evaluations\n",
    "  succs = nextStates(board)\n",
    "  if(len(succs)==0): return 0;\n",
    "\n",
    "  for board in succs:\n",
    "    maxCandidate = MaxValueTime(board, alpha, beta, depth-1, heuristic, startTime, timeLimit)\n",
    "    if(maxCandidate == TIME_ABORT_CODE): return TIME_ABORT_CODE\n",
    "    value = min(value, maxCandidate)\n",
    "    if(value <= alpha): return value\n",
    "    beta = min(value, beta)\n",
    "\n",
    "  return value\n",
    "\n",
    "def MaxValueTime(board, alpha, beta, depth, heuristic, startTime, timeLimit):\n",
    "  if(time.time() - startTime > timeLimit): return TIME_ABORT_CODE\n",
    "  if(depthTest(depth)): return heuristic(board) \n",
    "  if(mateTest(board)): \n",
    "    if(board.wic): return - CHECK_MATE_CODE - depth\n",
    "    else: return CHECK_MATE_CODE + depth\n",
    "\n",
    "  value = -9899 #something smaller than all possible position evaluations\n",
    "  succs = nextStates(board)\n",
    "  if(len(succs)==0): return 0; #means it is stalemate position\n",
    "\n",
    "  for board in succs:\n",
    "    minCandidate = MinValueTime(board, alpha, beta, depth-1, heuristic, startTime, timeLimit)\n",
    "    if(minCandidate == TIME_ABORT_CODE): return TIME_ABORT_CODE\n",
    "    value = max(value, minCandidate)\n",
    "    if(value >= beta): return value\n",
    "    alpha = max(value, alpha)\n",
    "\n",
    "  return value\n",
    "\n",
    "def MinMaxBlackTime(board, depth, heuristic, startTime, timeLimit):\n",
    "  succs = nextStates(board)\n",
    "  if(board.toMove == \"white\" or len(succs) == 0):\n",
    "    print(\"error\")\n",
    "    return\n",
    "  bestMove = succs[0]\n",
    "  minValue = 1001 #something bigger than all possible position evaluations\n",
    "\n",
    "  for board in succs:\n",
    "    value = MaxValueTime(board, -9999, 9999, depth-1, heuristic, startTime, timeLimit)\n",
    "    if(value == TIME_ABORT_CODE): return TIME_ABORT_CODE\n",
    "    if(value < minValue): \n",
    "      minValue = value\n",
    "      bestMove = board\n",
    "  \n",
    "  #print(minValue)\n",
    "  return bestMove\n",
    "\n",
    "import time\n",
    "\n",
    "def MinMaxBlackIterative(board, heuristic, timeLimit):\n",
    "  timeLimit = max(2, timeLimit)\n",
    "  startTime = time.time()\n",
    "  currentTime = startTime\n",
    "  depth = 1\n",
    "  while(currentTime - startTime < timeLimit):\n",
    "    bestMoveCandidate = MinMaxBlackTime(board, depth, heuristic, startTime, timeLimit)\n",
    "    if(bestMoveCandidate == TIME_ABORT_CODE): break\n",
    "    finishedDepth = depth\n",
    "    bestMove = bestMoveCandidate\n",
    "    currentTime = time.time()\n",
    "    depth += 1\n",
    "\n",
    "  print(\"finished depth: \", finishedDepth)\n",
    "  return bestMove"
   ]
  },
  {
   "cell_type": "markdown",
   "metadata": {
    "id": "LRaQFsJQYh55"
   },
   "source": [
    "# Setting up Player vs AI\n",
    "We need to create an interface for communication between the AI and the user.\n"
   ]
  },
  {
   "cell_type": "markdown",
   "metadata": {
    "id": "gFmn2svM1BaR"
   },
   "source": [
    "The \"Interface\" function has many redundancies and could be written in a more elegant way, but it works."
   ]
  },
  {
   "cell_type": "code",
   "execution_count": 171,
   "metadata": {
    "id": "KF8JHOlvewix"
   },
   "outputs": [],
   "source": [
    "moveType = {\n",
    "    \"a\": 0,\n",
    "    \"b\": 1,\n",
    "    \"c\": 2,\n",
    "    \"d\": 3,\n",
    "\n",
    "    \"1\": 0,\n",
    "    \"2\": 1,\n",
    "    \"3\": 2,\n",
    "    \"4\": 3,\n",
    "    \"5\": 4,\n",
    "}\n",
    "\n",
    "#turns a string into a move used for program logic\n",
    "def genMove(input):\n",
    "  #input must be legal\n",
    "  p1 = (moveType[input[0]], moveType[input[1]])\n",
    "  p2 = (moveType[input[2]], moveType[input[3]])\n",
    "  move = (p1, p2)\n",
    "  return move\n",
    "\n",
    "def makeMove(board, move):\n",
    "  #move must be legal\n",
    "  new = board.moveR(move[0],move[1])\n",
    "  return new\n",
    "\n",
    "#checks if a move breaks game rules\n",
    "def legalMove(board, move):\n",
    "  lm = legalMoves(board, move[0])\n",
    "  c = lm.count(move[1])\n",
    "  if(c == 0):\n",
    "    return False\n",
    "  return True\n",
    "\n",
    "#checks if user input breaks interface and game rules\n",
    "def legalString(board, input):\n",
    "  if(len(str(input)) != 4): return False\n",
    "  files = [\"a\",\"b\",\"c\",\"d\"]\n",
    "  ranks = [\"1\",\"2\",\"3\",\"4\",\"5\"]\n",
    "  a = files.count(input[0])\n",
    "  c = files.count(input[2])\n",
    "  b = ranks.count(input[1])\n",
    "  d = ranks.count(input[3])\n",
    "  if(a==0 or b==0 or c==0 or d==0): return False\n",
    "  \n",
    "  move = genMove(input)\n",
    "  if(not legalMove(board, move)): return False\n",
    "\n",
    "  return True\n",
    "\n",
    "from IPython.display import clear_output\n",
    "\n",
    "def Interface():\n",
    "  if(run == False): return\n",
    "\n",
    "  #initialization\n",
    "  b = Board(startingPosition)\n",
    "  b.toMove = \"white\"\n",
    "  refresh(b)\n",
    "  print(b)\n",
    "\n",
    "  # FIRST MOVE:\n",
    "  move = input(\"Your move: \")\n",
    "  if(move == \"exit\" or move == \"surrender\"): \n",
    "    print(\"BLACK WINS!\")\n",
    "    return\n",
    "  if(not legalString(b, move)):\n",
    "    while(not legalString(b, move)):\n",
    "      print(\"Invalid input! Try again.\")\n",
    "      move = input(\"Your move: \")\n",
    "      if(move == \"exit\" or move == \"surrender\"): \n",
    "        print(\"BLACK WINS!\")\n",
    "        return\n",
    "\n",
    "  move = genMove(move)\n",
    "  playerState = makeMove(b, move)\n",
    "  print(playerState)\n",
    "\n",
    "  #checking for game end\n",
    "  if(len(nextStates(playerState)) == 0):\n",
    "      if(playerState.bic):\n",
    "        print(\"WHITE WINS!\")\n",
    "      else:\n",
    "        print(\"STALEMATE!\")\n",
    "\n",
    "  print(\"AI calculating...\")\n",
    "  AIState = MinMaxBlack(playerState, depth, hMain)\n",
    "  print(AIState)\n",
    "\n",
    "  #checking for game end\n",
    "  if(len(nextStates(AIState)) == 0):\n",
    "      if(AIState.wic):\n",
    "        print(\"BLACK WINS!\")\n",
    "      else:\n",
    "        print(\"STALEMATE!\")\n",
    "\n",
    "  # MAIN GAME LOOP:\n",
    "  while(True):\n",
    "    move = input(\"Your move: \")\n",
    "    if(move == \"exit\" or move == \"surrender\"): \n",
    "      print(\"BLACK WINS!\")\n",
    "      return\n",
    "    if(not legalString(AIState, move)):\n",
    "      while(not legalString(AIState, move)):\n",
    "        print(\"Invalid input! Try again.\")\n",
    "        move = input(\"Your move: \")\n",
    "        if(move == \"exit\" or move == \"surrender\"): \n",
    "          print(\"BLACK WINS!\")\n",
    "          return\n",
    "    move = genMove(move)\n",
    "    playerState = makeMove(AIState, move)\n",
    "\n",
    "    clear_output()\n",
    "    print(playerState)\n",
    "\n",
    "    #checking for game end\n",
    "    if(len(nextStates(playerState)) == 0):\n",
    "      if(playerState.bic):\n",
    "        print(\"WHITE WINS!\")\n",
    "        break\n",
    "      else:\n",
    "        print(\"STALEMATE!\")\n",
    "        break \n",
    "\n",
    "    print(\"AI calculating...\")\n",
    "    AIState = MinMaxBlack(playerState, depth, hMain)\n",
    "    print(AIState)\n",
    "\n",
    "    #checking for game end\n",
    "    if(len(nextStates(AIState)) == 0):\n",
    "      if(AIState.wic):\n",
    "        print(\"BLACK WINS!\")\n",
    "        break\n",
    "      else:\n",
    "        print(\"STALEMATE!\")\n",
    "        break\n",
    "\n",
    "  return"
   ]
  },
  {
   "cell_type": "markdown",
   "metadata": {
    "id": "G_aremoZzv6u"
   },
   "source": [
    "- This next version of the interface has a functionality to control the move timer for the AI.\n",
    "- The iterative depth version called \"MinMaxBlackIterative\" of the min-max algorithm is used for generating the response from AI to the given positions. The \"moveTime\" is passed as the argument for limiting calculation time."
   ]
  },
  {
   "cell_type": "code",
   "execution_count": 172,
   "metadata": {
    "id": "u543V5hbh9hr"
   },
   "outputs": [],
   "source": [
    "def InterfaceTime():\n",
    "  if(run == False): return\n",
    "\n",
    "  #initialization\n",
    "  b = Board(startingPosition)\n",
    "  b.toMove = \"white\"\n",
    "  refresh(b)\n",
    "  print(b)\n",
    "\n",
    "  #first move\n",
    "  move = input(\"Your move: \")\n",
    "  if(move == \"exit\" or move == \"surrender\"): \n",
    "    print(\"BLACK WINS!\")\n",
    "    return\n",
    "  if(not legalString(b, move)):\n",
    "    while(not legalString(b, move)):\n",
    "      print(\"Invalid input! Try again.\")\n",
    "      move = input(\"Your move: \")\n",
    "      if(move == \"exit\" or move == \"surrender\"): \n",
    "        print(\"BLACK WINS!\")\n",
    "        return\n",
    "\n",
    "  move = genMove(move)\n",
    "  playerState = makeMove(b, move)\n",
    "  print(playerState)\n",
    "\n",
    "  #checking for game end\n",
    "  if(len(nextStates(playerState)) == 0):\n",
    "      if(playerState.bic):\n",
    "        print(\"WHITE WINS!\")\n",
    "      else:\n",
    "        print(\"STALEMATE!\")\n",
    "\n",
    "  print(\"AI calculating...\")\n",
    "  AIState = MinMaxBlackIterative(playerState, hMain, moveTime)\n",
    "  print(AIState)\n",
    "\n",
    "  #checking for game end\n",
    "  if(len(nextStates(AIState)) == 0):\n",
    "      if(AIState.wic):\n",
    "        print(\"BLACK WINS!\")\n",
    "      else:\n",
    "        print(\"STALEMATE!\")\n",
    "\n",
    "  #main game loop\n",
    "  while(True):\n",
    "    move = input(\"Your move: \")\n",
    "    if(move == \"exit\" or move == \"surrender\"): \n",
    "      print(\"BLACK WINS!\")\n",
    "      return\n",
    "    if(not legalString(AIState, move)):\n",
    "      while(not legalString(AIState, move)):\n",
    "        print(\"Invalid input! Try again.\")\n",
    "        move = input(\"Your move: \")\n",
    "        if(move == \"exit\" or move == \"surrender\"): \n",
    "          print(\"BLACK WINS!\")\n",
    "          return\n",
    "\n",
    "    move = genMove(move)\n",
    "    playerState = makeMove(AIState, move)\n",
    "\n",
    "    clear_output()\n",
    "    print(playerState)\n",
    "\n",
    "    #checking for game end\n",
    "    if(len(nextStates(playerState)) == 0):\n",
    "      if(playerState.bic):\n",
    "        print(\"WHITE WINS!\")\n",
    "        break\n",
    "      else:\n",
    "        print(\"STALEMATE!\")\n",
    "        break \n",
    "\n",
    "    print(\"AI calculating...\")\n",
    "    AIState = MinMaxBlackIterative(playerState, hMain, moveTime)\n",
    "    print(AIState)\n",
    "\n",
    "    #checking for game end\n",
    "    if(len(nextStates(AIState)) == 0):\n",
    "      if(AIState.wic):\n",
    "        print(\"BLACK WINS!\")\n",
    "        break\n",
    "      else:\n",
    "        print(\"STALEMATE!\")\n",
    "        break\n",
    "\n",
    "  return"
   ]
  },
  {
   "cell_type": "markdown",
   "metadata": {
    "id": "T5nvkqqJIK2n"
   },
   "source": [
    "# Checkmating exercises\n",
    "In this section we will explore if the AI is capable of pulling off some common checkmating ideas."
   ]
  },
  {
   "cell_type": "markdown",
   "metadata": {
    "id": "3ieVY3hLnL8r"
   },
   "source": [
    "- The reader is welcome to try to defend or stalemate the position for white.\n",
    "- **Manual:**\n",
    "- To run the game set the \"run\" parameter to True and to prevent the game from running set it to False.\n",
    "- For more info on controls visit the **PLAYER VS AI RULES** section\n",
    "- The \"depth\" parameter describes how many moves ahead the AI for the black player explores.\n",
    "- The depth of 5 was optimal for the upcoming examples. It could be incresed, but mind the exponential complexity. "
   ]
  },
  {
   "cell_type": "code",
   "execution_count": 173,
   "metadata": {
    "id": "8sL1Liq9Lvmo"
   },
   "outputs": [],
   "source": [
    "# CHECKMATING WITH A QUEEN\n",
    "run = False\n",
    "depth = 5\n",
    "startingPosition = (\"q... .k.. .... .... ..K.\")\n",
    "Interface()"
   ]
  },
  {
   "cell_type": "code",
   "execution_count": 174,
   "metadata": {
    "id": "Kv6w1hr3jEPM"
   },
   "outputs": [],
   "source": [
    "# CHECKMATING WITH A ROOK\n",
    "run = False\n",
    "depth = 5\n",
    "startingPosition = (\"k... .r.. .... .... ..K.\")\n",
    "Interface()"
   ]
  },
  {
   "cell_type": "markdown",
   "metadata": {
    "id": "fKWblrSJRnAD"
   },
   "source": [
    "- In the next example we have a position where if the black player is not careful enough they could throw a guaranteed win by naively pushing the pawn to the promotion rank without protecting it with their king.\n",
    "- A minimum depth of 5 is required for black to win."
   ]
  },
  {
   "cell_type": "code",
   "execution_count": 188,
   "metadata": {
    "id": "i14MSheUMePE"
   },
   "outputs": [
    {
     "name": "stdout",
     "output_type": "stream",
     "text": [
      "[]\n",
      "  +---+---+---+---+\n",
      "5 |   |   |   |   |\n",
      "  +---+---+---+---+\n",
      "4 |   | q |   |   |\n",
      "  +---+---+---+---+\n",
      "3 |   |   |   |   |\n",
      "  +---+---+---+---+\n",
      "2 | ₭ |   |   | k |\n",
      "  +---+---+---+---+\n",
      "1 |   |   |   |   |\n",
      "  +---+---+---+---+\n",
      "    a   b   c   d\n",
      "[]\n",
      "\n",
      "AI calculating...\n",
      "AI evaluates:  -740\n",
      "[]\n",
      "  +---+---+---+---+\n",
      "5 |   |   |   |   |\n",
      "  +---+---+---+---+\n",
      "4 |   | q |   |   |\n",
      "  +---+---+---+---+\n",
      "3 |   |   |   |   |\n",
      "  +---+---+---+---+\n",
      "2 | ₭ |   |   |   |\n",
      "  +---+---+---+---+\n",
      "1 |   |   | k |   |\n",
      "  +---+---+---+---+\n",
      "    a   b   c   d\n",
      "[]\n",
      "\n",
      "Your move: exit\n",
      "BLACK WINS!\n"
     ]
    }
   ],
   "source": [
    "# CHECKMATING WITH A PAWN\n",
    "run = True\n",
    "depth = 6\n",
    "startingPosition = (\".... .... ..p. K.k. ....\")\n",
    "Interface()"
   ]
  },
  {
   "cell_type": "markdown",
   "metadata": {
    "id": "igHO3Cc-3y39"
   },
   "source": [
    "#Player vs AI rules\n",
    "- **MANUAL:**\n",
    "- To run the game set the \"run\" parameter to True and to prevent the game from running set it to False. Then run the cell.\n",
    "- The \"moveTime\" parameter describes the maximum time in seconds the AI can use to generate a move. \n",
    "- The more time the AI has to think the better the move it makes will be. After it makes a move it will print out how many moves ahead it checked out.\n",
    "- The \"startingPostion\" can be changed if a player wishes to start from a custom one\n",
    "  - See notes in **BOARD CREATION** section for info on piece and board representation.\n",
    "- Above the board there is a list of captured white pieces. Below the board the same for black.\n",
    "- When prompted with the \"Your move:\" box, enter a string representing Your move following these rules:\n",
    "  - Only 4 characters are allowed.\n",
    "  - The first two characters represent the coordinates of the piece to move.\n",
    "  - The last two characters represent the target location for the moved piece.\n",
    "  - Example: \"a2a3\" moves the piece on a2 to a3.\n",
    "- After making a move the board state will be shown at the top and the AI will generate its response and print it out.\n",
    "- To exit the game type \"exit\" or \"surrender\" instead of the move."
   ]
  },
  {
   "cell_type": "markdown",
   "metadata": {
    "id": "Ya-2aR5-tOXX"
   },
   "source": [
    "- **SILVERMANN CHESS 4X5 GAME RULES:**\n",
    "- The game follows classic chess rules. These are the only changes:\n",
    "  - Pawns can only promote to a queen.\n",
    "  - Castling is done by switching places with the rook. Other rules regarding castling are unchanged.\n",
    "  - A pawn can move two squares forward for its first move only if there is no piece ocupying the target square. En passant capturing is allowed after that.\n",
    "- The default starting position looks like shown below.\n",
    "  - From left to right major pieces are ROOK, QUEEN, KING, ROOK.\n",
    "  - On he first rank are white pieces and the fifth black.\n",
    "  - The second rank contains white pawns.\n",
    "  - The fourth rank contains black pawns."
   ]
  },
  {
   "cell_type": "code",
   "execution_count": 176,
   "metadata": {
    "colab": {
     "base_uri": "https://localhost:8080/"
    },
    "id": "-G9BpQ1LuUzt",
    "outputId": "c19f6c25-b4e8-49f3-deb3-9de36041b7e7"
   },
   "outputs": [
    {
     "name": "stdout",
     "output_type": "stream",
     "text": [
      "[]\n",
      "  +---+---+---+---+\n",
      "5 | r | q | k | r |\n",
      "  +---+---+---+---+\n",
      "4 | i | i | i | i |\n",
      "  +---+---+---+---+\n",
      "3 |   |   |   |   |\n",
      "  +---+---+---+---+\n",
      "2 | I | I | I | I |\n",
      "  +---+---+---+---+\n",
      "1 | Ʀ | Φ | ₭ | Ʀ |\n",
      "  +---+---+---+---+\n",
      "    a   b   c   d\n",
      "[]\n",
      "\n"
     ]
    }
   ],
   "source": [
    "exampleBoard = Board(\"RQKR PPPP .... pppp rqkr\")\n",
    "print(exampleBoard)"
   ]
  },
  {
   "cell_type": "markdown",
   "metadata": {
    "id": "vdhU-IX7viYN"
   },
   "source": [
    "# The game\n",
    "- Before calling the \"Interface\" function variables \"run, depth and startingPosition\" have to be initialized.\n",
    "- Before calling the \"InterfaceTime\" function variables \"run, moveTime and startingPosition\" have to be initialized."
   ]
  },
  {
   "cell_type": "markdown",
   "metadata": {
    "id": "aEPxd87dqqfm"
   },
   "source": [
    "## Time limit version"
   ]
  },
  {
   "cell_type": "code",
   "execution_count": 177,
   "metadata": {
    "id": "FOHDWlOsigP8"
   },
   "outputs": [],
   "source": [
    "run = False\n",
    "moveTime = 5\n",
    "startingPosition = \"RQKR PPPP .... pppp rqkr\"\n",
    "\n",
    "InterfaceTime()"
   ]
  },
  {
   "cell_type": "markdown",
   "metadata": {
    "id": "FBjvcxGtqtgL"
   },
   "source": [
    "## Depth limit version\n"
   ]
  },
  {
   "cell_type": "markdown",
   "metadata": {
    "id": "R0VetrU-o19Q"
   },
   "source": [
    "These tests were done using free colab resources on the standard starting position.\n",
    "- The depth limit:\n",
    "  - 4: response in under 5 seconds\n",
    "  - 5: reponse in under 20 seconds\n",
    "  - 7: response in around 5 minutes "
   ]
  },
  {
   "cell_type": "code",
   "execution_count": 178,
   "metadata": {
    "id": "XivqNtSyqw2U"
   },
   "outputs": [],
   "source": [
    "run = False\n",
    "depth = 4\n",
    "startingPosition = \"RQKR PPPP .... pppp rqkr\"\n",
    "\n",
    "Interface()"
   ]
  },
  {
   "cell_type": "markdown",
   "metadata": {},
   "source": [
    "#  Dodatak"
   ]
  },
  {
   "cell_type": "code",
   "execution_count": 179,
   "metadata": {},
   "outputs": [],
   "source": [
    "import matplotlib.image as img\n",
    "import matplotlib.pyplot as plt\n",
    "from matplotlib.offsetbox import (OffsetImage, AnnotationBbox)\n",
    "import matplotlib.ticker as ticker"
   ]
  },
  {
   "cell_type": "code",
   "execution_count": 180,
   "metadata": {},
   "outputs": [
    {
     "data": {
      "text/plain": [
       "<matplotlib.image.AxesImage at 0x20d3e746280>"
      ]
     },
     "execution_count": 180,
     "metadata": {},
     "output_type": "execute_result"
    },
    {
     "data": {
      "image/png": "[encoded data removed]",
      "text/plain": [
       "<Figure size 640x480 with 1 Axes>"
      ]
     },
     "metadata": {},
     "output_type": "display_data"
    }
   ],
   "source": [
    "file = \"./assets/black-king.png\"\n",
    "bk = img.imread(file)\n",
    "plt.imshow(bk)"
   ]
  },
  {
   "cell_type": "code",
   "execution_count": 181,
   "metadata": {},
   "outputs": [],
   "source": [
    "col = {\n",
    "   -1 : (0.87,0.87,0.87),\n",
    "    1 : \"#458530\"\n",
    "}"
   ]
  },
  {
   "cell_type": "code",
   "execution_count": 182,
   "metadata": {},
   "outputs": [
    {
     "data": {
      "text/plain": [
       "<matplotlib.offsetbox.AnnotationBbox at 0x20d3e130310>"
      ]
     },
     "execution_count": 182,
     "metadata": {},
     "output_type": "execute_result"
    }
   ],
   "source": [
    "imagebox = OffsetImage(icon['K'], zoom=0.6)\n",
    "ab = AnnotationBbox(imagebox,(3,1),frameon=False)\n",
    "ax.add_artist(ab)"
   ]
  },
  {
   "cell_type": "code",
   "execution_count": 184,
   "metadata": {},
   "outputs": [],
   "source": [
    "icon = {\n",
    "    'K' : bk\n",
    "}"
   ]
  },
  {
   "cell_type": "code",
   "execution_count": 186,
   "metadata": {},
   "outputs": [],
   "source": [
    "def _draw(self):\n",
    "    board_figure, board_ax = plt.subplots()\n",
    "    board_ax.axis('equal')\n",
    "    board_ax.axis('off')\n",
    "    d = 0.5\n",
    "    toggle = -1\n",
    "    for c in range(1, 5, 1):\n",
    "        for r in range(1, 6, 1):\n",
    "            toggle *= -1\n",
    "            x = [c-d,c+d,c+d,c-d]\n",
    "            y = [r-d,r-d,r+d,r+d]\n",
    "            board_ax.fill(x,y,color=col[toggle])\n",
    "            imagebox = OffsetImage(icon[self.field[c-1][r-1]], zoom=0.6)\n",
    "            ab = AnnotationBbox(imagebox,(c,r), frameon=False)\n",
    "            board_ax.add_artist(ab)"
   ]
  }
 ],
 "metadata": {
  "colab": {
   "collapsed_sections": [
    "7fujErvgX_qW",
    "3dPgTXmelpUO",
    "c4DubCDY45za",
    "LlfjJlMqjrtl",
    "qfPl_Z5and43",
    "l7lO-q0nMYf7",
    "RhJciXRt1Uz8",
    "py5DOXEt1t5m",
    "m2o8lnAs5oge",
    "Rr4VqXsZLI0d",
    "Cxs2LlFlcWfT",
    "LRaQFsJQYh55",
    "T5nvkqqJIK2n",
    "igHO3Cc-3y39",
    "aEPxd87dqqfm",
    "FBjvcxGtqtgL"
   ],
   "provenance": []
  },
  "kernelspec": {
   "display_name": "Python 3 (ipykernel)",
   "language": "python",
   "name": "python3"
  },
  "language_info": {
   "codemirror_mode": {
    "name": "ipython",
    "version": 3
   },
   "file_extension": ".py",
   "mimetype": "text/x-python",
   "name": "python",
   "nbconvert_exporter": "python",
   "pygments_lexer": "ipython3",
   "version": "3.9.16"
  }
 },
 "nbformat": 4,
 "nbformat_minor": 1
}
